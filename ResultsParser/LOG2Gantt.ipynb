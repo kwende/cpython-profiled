{
 "cells": [
  {
   "cell_type": "code",
   "execution_count": 1,
   "id": "87591445",
   "metadata": {},
   "outputs": [
    {
     "ename": "PlotlyError",
     "evalue": "Error. The number of colors in 'colors' must be no less than the number of unique index values in your group column.",
     "output_type": "error",
     "traceback": [
      "\u001b[1;31m---------------------------------------------------------------------------\u001b[0m",
      "\u001b[1;31mPlotlyError\u001b[0m                               Traceback (most recent call last)",
      "Cell \u001b[1;32mIn[1], line 26\u001b[0m\n\u001b[0;32m     23\u001b[0m             current_start_time \u001b[39m=\u001b[39m read_time\n\u001b[0;32m     24\u001b[0m             current_id \u001b[39m=\u001b[39m read_id\n\u001b[1;32m---> 26\u001b[0m fig \u001b[39m=\u001b[39m ff\u001b[39m.\u001b[39;49mcreate_gantt(dicts, index_col\u001b[39m=\u001b[39;49m\u001b[39m'\u001b[39;49m\u001b[39mResource\u001b[39;49m\u001b[39m'\u001b[39;49m, show_colorbar\u001b[39m=\u001b[39;49m\u001b[39mTrue\u001b[39;49;00m,\n\u001b[0;32m     27\u001b[0m                       group_tasks\u001b[39m=\u001b[39;49m\u001b[39mTrue\u001b[39;49;00m)\n\u001b[0;32m     28\u001b[0m fig\u001b[39m.\u001b[39mupdate_layout(xaxis_type\u001b[39m=\u001b[39m\u001b[39m'\u001b[39m\u001b[39mlinear\u001b[39m\u001b[39m'\u001b[39m)\n\u001b[0;32m     29\u001b[0m fig\u001b[39m.\u001b[39mshow()\n",
      "File \u001b[1;32md:\\repos\\cpython-profiled\\ResultsParser\\env\\Lib\\site-packages\\plotly\\figure_factory\\_gantt.py:1000\u001b[0m, in \u001b[0;36mcreate_gantt\u001b[1;34m(df, colors, index_col, show_colorbar, reverse_colors, title, bar_width, showgrid_x, showgrid_y, height, width, tasks, task_names, data, group_tasks, show_hover_fill)\u001b[0m\n\u001b[0;32m    998\u001b[0m \u001b[39melse\u001b[39;00m:\n\u001b[0;32m    999\u001b[0m     \u001b[39mif\u001b[39;00m \u001b[39mnot\u001b[39;00m \u001b[39misinstance\u001b[39m(colors, \u001b[39mdict\u001b[39m):\n\u001b[1;32m-> 1000\u001b[0m         fig \u001b[39m=\u001b[39m gantt_colorscale(\n\u001b[0;32m   1001\u001b[0m             chart,\n\u001b[0;32m   1002\u001b[0m             colors,\n\u001b[0;32m   1003\u001b[0m             title,\n\u001b[0;32m   1004\u001b[0m             index_col,\n\u001b[0;32m   1005\u001b[0m             show_colorbar,\n\u001b[0;32m   1006\u001b[0m             bar_width,\n\u001b[0;32m   1007\u001b[0m             showgrid_x,\n\u001b[0;32m   1008\u001b[0m             showgrid_y,\n\u001b[0;32m   1009\u001b[0m             height,\n\u001b[0;32m   1010\u001b[0m             width,\n\u001b[0;32m   1011\u001b[0m             tasks\u001b[39m=\u001b[39;49m\u001b[39mNone\u001b[39;49;00m,\n\u001b[0;32m   1012\u001b[0m             task_names\u001b[39m=\u001b[39;49m\u001b[39mNone\u001b[39;49;00m,\n\u001b[0;32m   1013\u001b[0m             data\u001b[39m=\u001b[39;49m\u001b[39mNone\u001b[39;49;00m,\n\u001b[0;32m   1014\u001b[0m             group_tasks\u001b[39m=\u001b[39;49mgroup_tasks,\n\u001b[0;32m   1015\u001b[0m             show_hover_fill\u001b[39m=\u001b[39;49mshow_hover_fill,\n\u001b[0;32m   1016\u001b[0m         )\n\u001b[0;32m   1017\u001b[0m         \u001b[39mreturn\u001b[39;00m fig\n\u001b[0;32m   1018\u001b[0m     \u001b[39melse\u001b[39;00m:\n",
      "File \u001b[1;32md:\\repos\\cpython-profiled\\ResultsParser\\env\\Lib\\site-packages\\plotly\\figure_factory\\_gantt.py:448\u001b[0m, in \u001b[0;36mgantt_colorscale\u001b[1;34m(chart, colors, title, index_col, show_colorbar, bar_width, showgrid_x, showgrid_y, height, width, tasks, task_names, data, group_tasks, show_hover_fill)\u001b[0m\n\u001b[0;32m    445\u001b[0m index_vals\u001b[39m.\u001b[39msort()\n\u001b[0;32m    447\u001b[0m \u001b[39mif\u001b[39;00m \u001b[39mlen\u001b[39m(colors) \u001b[39m<\u001b[39m \u001b[39mlen\u001b[39m(index_vals):\n\u001b[1;32m--> 448\u001b[0m     \u001b[39mraise\u001b[39;00m exceptions\u001b[39m.\u001b[39mPlotlyError(\n\u001b[0;32m    449\u001b[0m         \u001b[39m\"\u001b[39m\u001b[39mError. The number of colors in \u001b[39m\u001b[39m'\u001b[39m\u001b[39mcolors\u001b[39m\u001b[39m'\u001b[39m\u001b[39m must be no less \u001b[39m\u001b[39m\"\u001b[39m\n\u001b[0;32m    450\u001b[0m         \u001b[39m\"\u001b[39m\u001b[39mthan the number of unique index values in your group \u001b[39m\u001b[39m\"\u001b[39m\n\u001b[0;32m    451\u001b[0m         \u001b[39m\"\u001b[39m\u001b[39mcolumn.\u001b[39m\u001b[39m\"\u001b[39m\n\u001b[0;32m    452\u001b[0m     )\n\u001b[0;32m    454\u001b[0m \u001b[39m# make a dictionary assignment to each index value\u001b[39;00m\n\u001b[0;32m    455\u001b[0m index_vals_dict \u001b[39m=\u001b[39m {}\n",
      "\u001b[1;31mPlotlyError\u001b[0m: Error. The number of colors in 'colors' must be no less than the number of unique index values in your group column."
     ]
    }
   ],
   "source": [
    "import plotly.figure_factory as ff\n",
    "\n",
    "dicts = []\n",
    "with open(\"gil-taken.log\") as fin:\n",
    "    lines = fin.readlines()\n",
    "    \n",
    "    current_start_time = -1\n",
    "    current_id = -1\n",
    "    \n",
    "    for line in lines:\n",
    "        bits = line.split('\\t')\n",
    "        subbits = bits[2].split('|')\n",
    "        \n",
    "        read_time = float(bits[1])\n",
    "        read_id = subbits[2]\n",
    "        \n",
    "        if current_start_time == -1:\n",
    "            current_start_time = read_time\n",
    "            current_id = read_id\n",
    "        elif current_id != read_id:\n",
    "            dicts.append(dict(Task=current_id, Start=current_start_time, Finish=read_time, Resource=current_id))\n",
    "            \n",
    "            current_start_time = read_time\n",
    "            current_id = read_id\n",
    "\n",
    "fig = ff.create_gantt(dicts, index_col='Resource', show_colorbar=True,\n",
    "                      group_tasks=True)\n",
    "fig.update_layout(xaxis_type='linear')\n",
    "fig.show()"
   ]
  },
  {
   "cell_type": "code",
   "execution_count": null,
   "id": "006b922d",
   "metadata": {},
   "outputs": [],
   "source": []
  }
 ],
 "metadata": {
  "kernelspec": {
   "display_name": "Python 3 (ipykernel)",
   "language": "python",
   "name": "python3"
  },
  "language_info": {
   "codemirror_mode": {
    "name": "ipython",
    "version": 3
   },
   "file_extension": ".py",
   "mimetype": "text/x-python",
   "name": "python",
   "nbconvert_exporter": "python",
   "pygments_lexer": "ipython3",
   "version": "3.11.4"
  }
 },
 "nbformat": 4,
 "nbformat_minor": 5
}
